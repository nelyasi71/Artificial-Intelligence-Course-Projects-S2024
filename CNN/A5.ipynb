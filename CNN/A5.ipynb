{
  "cells": [
    {
      "cell_type": "markdown",
      "metadata": {},
      "source": [
        "<h1 style=\"text-align: center; font-weight: bold;\">Narges Mohammadi Elyasi </h1>\n",
        "<h1 style=\"text-align: center\"> 810100258</h1>\n",
        "<h1 style=\"text-align: center;\">CA5 - Nural Network</h1>"
      ]
    },
    {
      "cell_type": "markdown",
      "metadata": {
        "id": "q2fdtUSVW6we"
      },
      "source": [
        "## Setup environment"
      ]
    },
    {
      "cell_type": "code",
      "execution_count": 2,
      "metadata": {
        "id": "1Cjet7tarJqu"
      },
      "outputs": [],
      "source": [
        "import ssl\n",
        "import nltk\n",
        "import re\n",
        "import random\n",
        "import gensim\n",
        "import numpy as np\n",
        "import pandas as pd\n",
        "import torch\n",
        "from torch import nn\n",
        "from torch.utils.data import DataLoader, Dataset\n",
        "from copy import deepcopy\n",
        "from sklearn import metrics\n",
        "import seaborn as sns\n",
        "import matplotlib.pyplot as plt\n",
        "import torch.optim as optim\n",
        "from tqdm import tqdm\n",
        "from nltk.corpus import stopwords, words\n",
        "from nltk.tokenize import word_tokenize\n",
        "import string\n",
        "from nltk.stem import WordNetLemmatizer\n",
        "import gensim.downloader as api\n",
        "import os\n",
        "from sklearn.model_selection import train_test_split\n",
        "\n",
        "ssl._create_default_https_context = ssl._create_unverified_context"
      ]
    },
    {
      "cell_type": "markdown",
      "metadata": {
        "id": "DJL6rymnXB6A"
      },
      "source": [
        "## Config"
      ]
    },
    {
      "cell_type": "markdown",
      "metadata": {
        "id": "ajweR5vXXExw"
      },
      "source": [
        "### Model training config"
      ]
    },
    {
      "cell_type": "code",
      "execution_count": 3,
      "metadata": {
        "id": "M17vAuGTrPvu"
      },
      "outputs": [],
      "source": [
        "LEARNING_RATE = 4e-4\n",
        "WEIGHT_DECAY = 1e-2\n",
        "BATCH_SIZE = 64\n",
        "EPOCHS = 15\n",
        "\n",
        "SEQUENCE_LEN = 64\n",
        "SEQUENCE_LEN2 = 196\n",
        "CNN_FILTERS = 64"
      ]
    },
    {
      "cell_type": "code",
      "execution_count": 4,
      "metadata": {
        "id": "BsldNqsXrPt5"
      },
      "outputs": [],
      "source": [
        "DEVICE = torch.device(\"cuda\" if torch.cuda.is_available() else \"cpu\")"
      ]
    },
    {
      "cell_type": "markdown",
      "metadata": {
        "id": "ny4F9deOXJ6g"
      },
      "source": [
        "## Data Preparation"
      ]
    },
    {
      "cell_type": "markdown",
      "metadata": {
        "id": "-o-08QsuXLT8"
      },
      "source": [
        "### Load Data"
      ]
    },
    {
      "cell_type": "code",
      "execution_count": 5,
      "metadata": {
        "id": "C1Okn2YzrPr5"
      },
      "outputs": [],
      "source": [
        "FILE_ADDRESS = 'twitter-suicidal-data.csv'"
      ]
    },
    {
      "cell_type": "code",
      "execution_count": 6,
      "metadata": {
        "id": "aD-WRB3MrPp9"
      },
      "outputs": [],
      "source": [
        "dataframe = pd.read_csv(FILE_ADDRESS)"
      ]
    },
    {
      "cell_type": "code",
      "execution_count": 7,
      "metadata": {
        "colab": {
          "base_uri": "https://localhost:8080/",
          "height": 206
        },
        "id": "lQlhEYsQrPn9",
        "outputId": "6e2547fc-d2ad-43f3-a0ce-659c6cabf2cb"
      },
      "outputs": [
        {
          "data": {
            "text/html": [
              "<div>\n",
              "<style scoped>\n",
              "    .dataframe tbody tr th:only-of-type {\n",
              "        vertical-align: middle;\n",
              "    }\n",
              "\n",
              "    .dataframe tbody tr th {\n",
              "        vertical-align: top;\n",
              "    }\n",
              "\n",
              "    .dataframe thead th {\n",
              "        text-align: right;\n",
              "    }\n",
              "</style>\n",
              "<table border=\"1\" class=\"dataframe\">\n",
              "  <thead>\n",
              "    <tr style=\"text-align: right;\">\n",
              "      <th></th>\n",
              "      <th>tweet</th>\n",
              "      <th>intention</th>\n",
              "    </tr>\n",
              "  </thead>\n",
              "  <tbody>\n",
              "    <tr>\n",
              "      <th>0</th>\n",
              "      <td>my life is meaningless i just want to end my l...</td>\n",
              "      <td>1</td>\n",
              "    </tr>\n",
              "    <tr>\n",
              "      <th>1</th>\n",
              "      <td>muttering i wanna die to myself daily for a fe...</td>\n",
              "      <td>1</td>\n",
              "    </tr>\n",
              "    <tr>\n",
              "      <th>2</th>\n",
              "      <td>work slave i really feel like my only purpose ...</td>\n",
              "      <td>1</td>\n",
              "    </tr>\n",
              "    <tr>\n",
              "      <th>3</th>\n",
              "      <td>i did something on the 2 of october i overdose...</td>\n",
              "      <td>1</td>\n",
              "    </tr>\n",
              "    <tr>\n",
              "      <th>4</th>\n",
              "      <td>i feel like no one cares i just want to die ma...</td>\n",
              "      <td>1</td>\n",
              "    </tr>\n",
              "  </tbody>\n",
              "</table>\n",
              "</div>"
            ],
            "text/plain": [
              "                                               tweet  intention\n",
              "0  my life is meaningless i just want to end my l...          1\n",
              "1  muttering i wanna die to myself daily for a fe...          1\n",
              "2  work slave i really feel like my only purpose ...          1\n",
              "3  i did something on the 2 of october i overdose...          1\n",
              "4  i feel like no one cares i just want to die ma...          1"
            ]
          },
          "execution_count": 7,
          "metadata": {},
          "output_type": "execute_result"
        }
      ],
      "source": [
        "dataframe.head()"
      ]
    },
    {
      "cell_type": "markdown",
      "metadata": {
        "id": "dECq1ziRXSdz"
      },
      "source": [
        "## Data Preprocessing"
      ]
    },
    {
      "cell_type": "code",
      "execution_count": 8,
      "metadata": {
        "colab": {
          "base_uri": "https://localhost:8080/"
        },
        "id": "aid42Q5drPl5",
        "outputId": "96e176fe-ecaf-4231-faf2-bb87991ad5c2"
      },
      "outputs": [
        {
          "name": "stderr",
          "output_type": "stream",
          "text": [
            "[nltk_data] Downloading package words to\n",
            "[nltk_data]     C:\\Users\\Narges\\AppData\\Roaming\\nltk_data...\n",
            "[nltk_data]   Package words is already up-to-date!\n",
            "[nltk_data] Downloading package stopwords to\n",
            "[nltk_data]     C:\\Users\\Narges\\AppData\\Roaming\\nltk_data...\n",
            "[nltk_data]   Package stopwords is already up-to-date!\n",
            "[nltk_data] Downloading package punkt to\n",
            "[nltk_data]     C:\\Users\\Narges\\AppData\\Roaming\\nltk_data...\n",
            "[nltk_data]   Package punkt is already up-to-date!\n",
            "[nltk_data] Downloading package wordnet to\n",
            "[nltk_data]     C:\\Users\\Narges\\AppData\\Roaming\\nltk_data...\n",
            "[nltk_data]   Package wordnet is already up-to-date!\n",
            "[nltk_data] Downloading package averaged_perceptron_tagger to\n",
            "[nltk_data]     C:\\Users\\Narges\\AppData\\Roaming\\nltk_data...\n",
            "[nltk_data]   Package averaged_perceptron_tagger is already up-to-\n",
            "[nltk_data]       date!\n"
          ]
        },
        {
          "data": {
            "text/plain": [
              "True"
            ]
          },
          "execution_count": 8,
          "metadata": {},
          "output_type": "execute_result"
        }
      ],
      "source": [
        "nltk.download([\"words\",\"stopwords\", \"punkt\", \"wordnet\", \"averaged_perceptron_tagger\"])"
      ]
    },
    {
      "cell_type": "code",
      "execution_count": 9,
      "metadata": {
        "id": "m0YwZRRcr2T2"
      },
      "outputs": [],
      "source": [
        "def convert_emoji_to_text(text):\n",
        "    emojiless_text = re.sub(r'[^\\w\\s]', ' ', text)\n",
        "    return emojiless_text\n",
        "\n",
        "lemmatizer = nltk.stem.WordNetLemmatizer()\n",
        "stop_words = set(stopwords.words('english'))\n",
        "valid_words = set(words.words())\n",
        "\n",
        "def nltk_pos_tagger(nltk_tag):\n",
        "    if nltk_tag.startswith('J'):\n",
        "        return 'a'\n",
        "    elif nltk_tag.startswith('V'):\n",
        "        return 'v'\n",
        "    elif nltk_tag.startswith('N'):\n",
        "        return 'n'\n",
        "    elif nltk_tag.startswith('R'):\n",
        "        return 'r'\n",
        "    else:\n",
        "        return 'n'\n",
        "\n",
        "def preprocess_data(text: str):\n",
        "    lowered_text = text.lower()\n",
        "    nonnumeric_text = ''.join(char for char in lowered_text if char not in string.punctuation and not char.isdigit())\n",
        "    linkremoved_text = re.sub(r'http[s]?://\\S+|www\\.\\S+|[^\\w\\s]', '', nonnumeric_text)\n",
        "    userless_text = re.sub(r'@\\w+', '', linkremoved_text)\n",
        "    emojiless_text = convert_emoji_to_text(userless_text)\n",
        "    spaceless_text = re.sub(r'\\s+', ' ', emojiless_text).strip()\n",
        "    lemmatized_tokens = [lemmatizer.lemmatize(word) for word in spaceless_text.split()]\n",
        "    filtered_tokens = [word for word in lemmatized_tokens if word not in stop_words]\n",
        "    valid_tokens = [word for word in filtered_tokens if word in valid_words]\n",
        "    return valid_tokens\n"
      ]
    },
    {
      "cell_type": "markdown",
      "metadata": {
        "id": "P5DQSatOXnHP"
      },
      "source": [
        "## Phase 0 Questions:\n",
        "### 1. Why do we convert the works to lowercase?\n",
        "Converting words to lowercase in word preprocessing is a common practice in natural language processing (NLP) for several reasons:\n",
        "\n",
        "Normalization: By converting all words to lowercase, we ensure that words are consistent and standardized throughout the text. This helps in reducing the vocabulary size by merging words that differ only in their casing (e.g., \"Hello\" and \"hello\" are treated as the same word).\n",
        "\n",
        "Tokenization: Lowercasing words makes it easier to tokenize the text into individual words. Tokenization is a fundamental preprocessing step in NLP where text is split into smaller units (words, phrases, or symbols) to analyze and process them.\n",
        "\n",
        "Consistency in Text Analysis: Lowercasing words ensures that text analysis methods such as counting word frequencies or identifying common words are not affected by the casing variations of the words.\n",
        "\n",
        "Improved Model Performance: A model that is case-insensitive can benefit from lowercasing words as it reduces the complexity of the input data and improves generalization by treating words with different cases as the same word.\n",
        "\n",
        "Avoiding Duplication: Lowercasing words helps in avoiding duplication of words in the vocabulary for words that differ only in casing. This helps in reducing the model's training time and memory usage.\n",
        "\n",
        "Overall, converting words to lowercase in word preprocessing is a standard practice that facilitates text processing, improves model performance, and ensures consistency in NLP tasks."
      ]
    },
    {
      "cell_type": "markdown",
      "metadata": {
        "id": "U4155-62Xuhw"
      },
      "source": [
        "### 2. Why do we omit the numeric data? Tell the pros and cons of this method\n",
        "Omitting numeric data in some natural language processing (NLP) tasks is a common approach because the presence of numeric data may introduce noise or unnecessary complexity to the textual analysis. Here are some pros and cons of omitting numeric data in NLP tasks:\n",
        "\n",
        "Pros of Omitting Numeric Data:\n",
        "\n",
        "Improved Text Processing: Omitting numeric data simplifies text processing and analysis by focusing on textual content only. This can lead to more efficient text preprocessing steps such as tokenization, stemming, and vectorization.\n",
        "Reduced Noise: Numeric data can sometimes be noisy and irrelevant to certain NLP tasks. By removing numeric values, you may improve the accuracy and reliability of the analysis focused on the textual content.\n",
        "Enhanced Model Performance: In some NLP tasks like sentiment analysis or text classification, including numeric data alongside text may complicate the model training process. Omitting numeric data can lead to more streamlined and optimized models.\n",
        "Cons of Omitting Numeric Data:\n",
        "\n",
        "Information Loss: Numeric data may contain valuable information that can be relevant for the NLP task at hand. Omitting numeric data may result in the loss of important context or details that could enhance the understanding of the text.\n",
        "Contextual Relevance: In some cases, numeric data within text can provide context or additional meaning to the textual content. Omitting numeric data completely may overlook this context and potentially impact the performance of certain NLP tasks.\n",
        "Overgeneralization: Omitting numeric data from the analysis may lead to oversimplification of the data, potentially ignoring important patterns or variations that exist within the text along with the numeric information.\n",
        "Ultimately, the decision to omit numeric data in NLP tasks depends on the specific requirements, objectives, and characteristics of the dataset and the task at hand. It is important to carefully consider the pros and cons and determine whether keeping or omitting numeric data aligns with the goals of the NLP analysis."
      ]
    },
    {
      "cell_type": "markdown",
      "metadata": {
        "id": "a-yKTnk9Xwh5"
      },
      "source": [
        "### 3. Why haven't we removed the hashtags?\n",
        "\n",
        "I think that hashtags in social media often point to a keyword of an important thing or feature that is related to our text. That is why they could be od use to us. They can be used to categorize the content of a text in social media, create connections between posts, and express emotions or opinions. While hashtags can provide valuable information and context for understanding the content of social media data, it is important to consider their impact on NLP models. Here are some reasons why we often do not remove hashtags in social media data and the potential impact they can have on our models:\n",
        "\n",
        "Context and Meaning: Hashtags can provide additional context and meaning to the text by highlighting key topics, events, or sentiments discussed in the social media posts. Removing hashtags may result in the loss of valuable information that could help improve the model's understanding of the data.\n",
        "\n",
        "Trend Analysis: Hashtags are commonly used to track trends and topics that are popular or relevant on social media at a given time. Analyzing hashtags alongside text data can help in identifying trending topics, analyzing user sentiment, and understanding the overall social media landscape.\n",
        "\n",
        "Sentiment Analysis: Hashtags are often used to express emotions or opinions related to a specific topic. Including hashtags in sentiment analysis tasks can help capture the sentiment associated with the topic or theme referenced by the hashtags.\n",
        "\n",
        "User Engagement: Hashtags play a significant role in social media engagement and can influence the reach and visibility of posts. Analyzing hashtags along with the text data can provide insights into user engagement, participation in discussions, and overall social media interactions.\n",
        "\n",
        "Feature Engineering: Hashtags can be used as features or input signals in NLP models to improve performance in certain tasks. Extracting and incorporating hashtags as additional features can enhance the model's ability to capture specific topics or themes present in the data."
      ]
    },
    {
      "cell_type": "code",
      "execution_count": 10,
      "metadata": {
        "colab": {
          "base_uri": "https://localhost:8080/"
        },
        "id": "XCUGcE0irPkK",
        "outputId": "467cef89-5dfb-4f10-e0f0-72bc067fa1b3"
      },
      "outputs": [
        {
          "name": "stdout",
          "output_type": "stream",
          "text": [
            "6379    after a fitfull night of tossing and turning o...\n",
            "163     i ve tried everything else i just can not go o...\n",
            "6032    has tonsillitis or glandular fever either way ...\n",
            "751     the idea of death seems so peaceful i want to ...\n",
            "6922     i just saw an old clip of you on idol and it ...\n",
            "Name: tweet, dtype: object\n"
          ]
        }
      ],
      "source": [
        "text_column_name = 'tweet'\n",
        "selected_indices = random.sample(range(len(dataframe)), 5)\n",
        "selected_rows = dataframe.loc[selected_indices]\n",
        "print(selected_rows[text_column_name])"
      ]
    },
    {
      "cell_type": "code",
      "execution_count": 11,
      "metadata": {
        "id": "4t7laQssrPiV"
      },
      "outputs": [],
      "source": [
        "sample_df= deepcopy(dataframe)\n",
        "sample_df['tokens'] = sample_df[text_column_name].apply(preprocess_data)\n",
        "sample_df['token_count'] = sample_df['tweet'].apply(lambda x: len(preprocess_data(x)))\n"
      ]
    },
    {
      "cell_type": "code",
      "execution_count": 12,
      "metadata": {
        "colab": {
          "base_uri": "https://localhost:8080/"
        },
        "id": "8jdL3KStrPgV",
        "outputId": "a8f58685-c6af-435c-8eb1-c31a084c3c2e"
      },
      "outputs": [
        {
          "name": "stdout",
          "output_type": "stream",
          "text": [
            "6379                    [night, tossing, turning, er, go]\n",
            "163     [tried, everything, else, go, another, day, de...\n",
            "6032    [ha, tonsillitis, glandular, fever, either, wa...\n",
            "751             [idea, death, peaceful, want, cant, want]\n",
            "6922                   [saw, old, clip, idol, made, miss]\n",
            "Name: tokens, dtype: object\n"
          ]
        }
      ],
      "source": [
        "print(sample_df['tokens'].loc[selected_indices])"
      ]
    },
    {
      "cell_type": "code",
      "execution_count": 13,
      "metadata": {
        "colab": {
          "base_uri": "https://localhost:8080/",
          "height": 564
        },
        "id": "H1qhG8PLrPeJ",
        "outputId": "0f8d2983-38be-43d6-e457-d307d00b90d9"
      },
      "outputs": [
        {
          "data": {
            "image/png": "[encoded data removed]",
            "text/plain": [
              "<Figure size 1000x600 with 1 Axes>"
            ]
          },
          "metadata": {},
          "output_type": "display_data"
        }
      ],
      "source": [
        "plt.figure(figsize=(10, 6))\n",
        "sns.boxplot(x='intention', y='token_count', data=sample_df)\n",
        "plt.title('Distribution of Token Counts for Each Label')\n",
        "plt.xlabel('Label')\n",
        "plt.ylabel('Token Count')\n",
        "plt.show()"
      ]
    },
    {
      "cell_type": "code",
      "execution_count": 14,
      "metadata": {
        "colab": {
          "base_uri": "https://localhost:8080/",
          "height": 564
        },
        "id": "u1cVu8Jer8p9",
        "outputId": "c913e827-9e37-4357-b2e1-8bee0760adc6"
      },
      "outputs": [
        {
          "data": {
            "image/png": "[encoded data removed]",
            "text/plain": [
              "<Figure size 1000x600 with 1 Axes>"
            ]
          },
          "metadata": {},
          "output_type": "display_data"
        }
      ],
      "source": [
        "plt.figure(figsize=(10, 6))\n",
        "sns.boxplot(x=sample_df['token_count'])\n",
        "plt.title('Distribution of Token Counts Overall')\n",
        "plt.xlabel('Overall')\n",
        "plt.ylabel('Token Count')\n",
        "plt.show()"
      ]
    },
    {
      "cell_type": "code",
      "execution_count": 15,
      "metadata": {
        "colab": {
          "base_uri": "https://localhost:8080/"
        },
        "id": "y19XZ50Ur8n9",
        "outputId": "4a5e5cc9-308c-4a56-fb44-06cae430a0c7"
      },
      "outputs": [
        {
          "name": "stdout",
          "output_type": "stream",
          "text": [
            "fasttext-wiki-news-subwords-300\n",
            "conceptnet-numberbatch-17-06-300\n",
            "word2vec-ruscorpora-300\n",
            "word2vec-google-news-300\n",
            "glove-wiki-gigaword-50\n",
            "glove-wiki-gigaword-100\n",
            "glove-wiki-gigaword-200\n",
            "glove-wiki-gigaword-300\n",
            "glove-twitter-25\n",
            "glove-twitter-50\n",
            "glove-twitter-100\n",
            "glove-twitter-200\n",
            "__testing_word2vec-matrix-synopsis\n"
          ]
        }
      ],
      "source": [
        "print(\"\\n\".join(api.info()['models'].keys()))"
      ]
    },
    {
      "cell_type": "markdown",
      "metadata": {
        "id": "iTpLpmvPX799"
      },
      "source": [
        "### Word2Vec - Word Embedding"
      ]
    },
    {
      "cell_type": "code",
      "execution_count": 16,
      "metadata": {
        "colab": {
          "base_uri": "https://localhost:8080/"
        },
        "id": "HCqnwMYfr8mG",
        "outputId": "c31223a0-c344-42f2-c95a-10ecd695af02"
      },
      "outputs": [
        {
          "name": "stdout",
          "output_type": "stream",
          "text": [
            "Loading Word2Vec model...\n",
            "Word2Vec model is loaded.\n"
          ]
        }
      ],
      "source": [
        "W2V_PATH = 'word2vec'\n",
        "if W2V_PATH is not None and os.path.exists(W2V_PATH):\n",
        "    print(\"Loading Word2Vec model...\")\n",
        "    w2v_model = gensim.models.KeyedVectors.load(W2V_PATH, mmap='r')\n",
        "    print(\"Word2Vec model is loaded.\")\n",
        "else:\n",
        "    print(\"Downloading Word2Vec model...\")\n",
        "    w2v_model = api.load(\"word2vec-google-news-300\")\n",
        "    print(\"Word2vec model is downloaded.\")\n",
        "    if W2V_PATH is not None:\n",
        "      print(\"\\nSaving Word2Vec model...\")\n",
        "      w2v_model.save(W2V_PATH)\n",
        "      print(\"Word2Vec model is saved.\")"
      ]
    },
    {
      "cell_type": "code",
      "execution_count": 17,
      "metadata": {
        "id": "agotWqZmr8jt"
      },
      "outputs": [],
      "source": [
        "EMBEDDING_VECTOR_DIM = w2v_model.vector_size"
      ]
    },
    {
      "cell_type": "markdown",
      "metadata": {
        "id": "x5J1WJiebhEw"
      },
      "source": [
        "### Dataset"
      ]
    },
    {
      "cell_type": "code",
      "execution_count": 18,
      "metadata": {
        "id": "OgH86Evkr8g1"
      },
      "outputs": [],
      "source": [
        "class Twitter(Dataset):\n",
        "    def __init__(self, dataframe: pd.DataFrame, w2v_model: gensim.models.KeyedVectors, sequence_len: int):\n",
        "        self.dataframe = dataframe.copy()\n",
        "        self.w2v_model = w2v_model\n",
        "        self.max_sequence_len = sequence_len\n",
        "        self.vector_size = w2v_model.vector_size\n",
        "\n",
        "        self.df_token_col = \"tokens\"\n",
        "\n",
        "\n",
        "        self._proc_dataset()\n",
        "\n",
        "        self.len = len(self.dataframe)\n",
        "\n",
        "    def __len__(self):\n",
        "        return self.len\n",
        "\n",
        "    def __getitem__(self, idx):\n",
        "        return self.dataframe.iloc[idx][\"vector\"], self.dataframe.iloc[idx][\"intention\"]\n",
        "\n",
        "    def get_vector_size(self):\n",
        "        return self.vector_size\n",
        "\n",
        "    def _proc_dataset(self):\n",
        "        self.dataframe[self.df_token_col] = self.dataframe[\"tweet\"].map(preprocess_data)\n",
        "        lwz = len(self.dataframe)\n",
        "        self.dataframe = self.dataframe[self.dataframe[self.df_token_col].map(len) > 0]\n",
        "        self.dataframe.reset_index(drop=True, inplace=True)\n",
        "        print(f\"Deleted 0-Len Samples: {lwz - len(self.dataframe)}\")\n",
        "        self.dataframe.loc[:, self.df_token_col] = self.dataframe[self.df_token_col].map(self._pad)\n",
        "        self.dataframe.loc[:, \"vector\"] = self.dataframe[self.df_token_col].map(self._get_word_vectors)\n",
        "    def _get_word_vectors(self, tokens: list) -> torch.tensor:\n",
        "        vector_list = []\n",
        "        for token in tokens:\n",
        "            if isinstance(token, str) and token in self.w2v_model:\n",
        "                vector_list.append(self.w2v_model[token])\n",
        "            else:\n",
        "                vector_list.append(np.zeros(self.vector_size))\n",
        "        return torch.tensor(vector_list, dtype=torch.float32)\n",
        "\n",
        "    def _pad(self, tokens: list) -> list:\n",
        "        num_padding = max(0, self.max_sequence_len - len(tokens))\n",
        "        if len(tokens) > self.max_sequence_len:\n",
        "            padded_tokens = tokens[:self.max_sequence_len]\n",
        "        else:\n",
        "            padding = ['0'] * num_padding\n",
        "            padded_tokens =  tokens + padding\n",
        "        return padded_tokens\n",
        "\n",
        "    def seq_report(self):\n",
        "        length_all = self.dataframe[self.df_token_col].map(len).tolist()\n",
        "        max_length = np.max(length_all)\n",
        "        print(f\"Sequence Length Report\")\n",
        "        print(f\":::::MAX  LENGTH:::[{max_length:^5}]\")\n",
        "        print(f\":::::MIN  LENGTH:::[{np.min(length_all):^5}]\")\n",
        "        print(f\":::::MEAN LENGTH:::[{np.mean(length_all):^5}]\")\n",
        "\n",
        "        all_tokens = set()\n",
        "        for token_set in self.dataframe[self.df_token_col].tolist():\n",
        "            all_tokens = all_tokens.union(set(token_set))\n",
        "        unique_tokens_count = len(all_tokens)\n",
        "        valid_tokens = sum(1 if token in self.w2v_model else 0 for token in all_tokens)\n",
        "        print(\"Sequence Tokenization Report\")\n",
        "        print(f\":::::All Unique Tokens:::[{unique_tokens_count:^6}\")\n",
        "        print(f\":::::All Valid Tokens:::[{valid_tokens:^6}\")\n",
        "        print(f\":::::Valid Tokens:::[{round(100*valid_tokens/unique_tokens_count, 2):^5}%]\")\n",
        "\n",
        "    def train_test_split(self, test_size=0.2, random_state=None):\n",
        "        X = self.dataframe.drop('intention', axis=1)\n",
        "        y = self.dataframe['intention']\n",
        "        X_train, X_test, y_train, y_test = train_test_split(X, y, test_size=test_size, random_state=random_state)\n",
        "        return X_train, X_test, y_train, y_test\n",
        "\n",
        "    def split_datasets(self, test_size=0.2, random_state=None):\n",
        "        train_df, test_df = train_test_split(self.dataframe, test_size=test_size, random_state=random_state)\n",
        "        return Twitter(train_df, self.w2v_model, self.max_sequence_len), Twitter(test_df, self.w2v_model, self.max_sequence_len)\n",
        "    @staticmethod\n",
        "    def _to_tensor(tokens: list):\n",
        "        return torch.tensor(tokens, dtype=torch.float32)"
      ]
    },
    {
      "cell_type": "markdown",
      "metadata": {
        "id": "IPZcwnlCboxI"
      },
      "source": [
        "### What are the ways to handle words that are not in the dictionary?\n",
        "When dealing with words that are not present in the word2vec dictionary, there are several strategies you can employ:\n",
        "\n",
        "Zero Vector: Use a zero vector for out-of-vocabulary (OOV) words. This is simple but may not be the most effective as it doesn't provide any meaningful information.\n",
        "\n",
        "Random Vector: Initialize OOV words with random vectors. The randomness introduces some variety, although the vectors may not be meaningful.\n",
        "\n",
        "Average Vector: Use the average vector of all word vectors in the dictionary. This provides a central point in the vector space but may not be representative of the OOV word's semantics.\n",
        "\n",
        "Subword Information: Utilize models like FastText that generate vectors for OOV words based on subword information, which can capture the meaning of words by their parts (prefixes, suffixes, etc.).\n",
        "\n",
        "Custom Embeddings: Train custom embeddings for your specific dataset, which can include the OOV words encountered in your corpus.\n",
        "\n",
        "Placeholder Vector: Assign a unique placeholder vector for all OOV words. This can be useful if you want to treat all OOV words uniformly.\n",
        "\n",
        "Similarity-based Vector: Find the most similar words that are in the dictionary and use their vectors or an average of their vectors for the OOV word.\n",
        "\n",
        "Contextual Embeddings: Use contextual embedding models like BERT or ELMo that generate word vectors based on the context in which the word appears, thus providing vectors for OOV words based on their usage.\n",
        "\n",
        "Each method has its pros and cons, and the choice may depend on the specific application and the nature of the dataset you're working with. It's also possible to combine these strategies to handle OOV words more effectively."
      ]
    },
    {
      "cell_type": "markdown",
      "metadata": {
        "id": "_3V8OJOEb2-b"
      },
      "source": [
        "## Prepare Data"
      ]
    },
    {
      "cell_type": "markdown",
      "metadata": {
        "id": "OeA97hBTb4mC"
      },
      "source": [
        "### Split Data into train-valid"
      ]
    },
    {
      "cell_type": "code",
      "execution_count": 19,
      "metadata": {
        "colab": {
          "base_uri": "https://localhost:8080/"
        },
        "id": "MUsrsi81sFaZ",
        "outputId": "de2391bb-f4a7-42a8-8e97-269806024904"
      },
      "outputs": [
        {
          "name": "stdout",
          "output_type": "stream",
          "text": [
            "Deleted 0-Len Samples: 85\n"
          ]
        },
        {
          "name": "stderr",
          "output_type": "stream",
          "text": [
            "C:\\Users\\Narges\\AppData\\Local\\Temp\\ipykernel_9976\\15560500.py:39: UserWarning: Creating a tensor from a list of numpy.ndarrays is extremely slow. Please consider converting the list to a single numpy.ndarray with numpy.array() before converting to a tensor. (Triggered internally at C:\\actions-runner\\_work\\pytorch\\pytorch\\builder\\windows\\pytorch\\torch\\csrc\\utils\\tensor_new.cpp:277.)\n",
            "  return torch.tensor(vector_list, dtype=torch.float32)\n"
          ]
        },
        {
          "name": "stdout",
          "output_type": "stream",
          "text": [
            "Sequence Length Report\n",
            ":::::MAX  LENGTH:::[ 64  ]\n",
            ":::::MIN  LENGTH:::[ 64  ]\n",
            ":::::MEAN LENGTH:::[64.0 ]\n",
            "Sequence Tokenization Report\n",
            ":::::All Unique Tokens:::[ 8300 \n",
            ":::::All Valid Tokens:::[ 8231 \n",
            ":::::Valid Tokens:::[99.17%]\n"
          ]
        }
      ],
      "source": [
        "twitter_dataset = Twitter(dataframe, w2v_model, SEQUENCE_LEN)\n",
        "twitter_dataset.seq_report()"
      ]
    },
    {
      "cell_type": "code",
      "execution_count": 20,
      "metadata": {
        "id": "T6RbebbgBobx"
      },
      "outputs": [],
      "source": [
        "X_train, X_test, y_train, y_test = twitter_dataset.train_test_split(test_size=0.2, random_state=42)"
      ]
    },
    {
      "cell_type": "markdown",
      "metadata": {
        "id": "WpDYhyglb_8L"
      },
      "source": [
        "### Create Datasets"
      ]
    },
    {
      "cell_type": "code",
      "execution_count": 21,
      "metadata": {
        "colab": {
          "base_uri": "https://localhost:8080/"
        },
        "id": "GLA53-8PsFYB",
        "outputId": "babed001-ad9f-444b-95cc-453168feb7a7"
      },
      "outputs": [
        {
          "name": "stdout",
          "output_type": "stream",
          "text": [
            "Deleted 0-Len Samples: 0\n",
            "Deleted 0-Len Samples: 0\n",
            "Training dataset size: 7227\n",
            "Testing dataset size: 1807\n"
          ]
        }
      ],
      "source": [
        "train_dataset, test_dataset = twitter_dataset.split_datasets(test_size=0.2, random_state=42)\n",
        "\n",
        "print(f\"Training dataset size: {len(train_dataset)}\")\n",
        "print(f\"Testing dataset size: {len(test_dataset)}\")"
      ]
    },
    {
      "cell_type": "markdown",
      "metadata": {
        "id": "qGko_gmNc2TY"
      },
      "source": [
        "### Model and Train"
      ]
    },
    {
      "cell_type": "markdown",
      "metadata": {
        "id": "yjs0awHLc0tj"
      },
      "source": [
        "### Utils"
      ]
    },
    {
      "cell_type": "code",
      "execution_count": 22,
      "metadata": {
        "id": "i-FaH1GPtWQi"
      },
      "outputs": [],
      "source": [
        "@torch.no_grad()\n",
        "def model_eval(model, loader, loss_function, device: str = 'auto'):\n",
        "    \"\"\"Returns test_loss, test_acc\"\"\"\n",
        "    test_loss = 0.0\n",
        "    test_acc = 0.0\n",
        "    total_samples = 0\n",
        "    correct_predictions = 0\n",
        "\n",
        "    if device == \"auto\":\n",
        "        device = torch.device(\"cuda\" if torch.cuda.is_available() else \"cpu\")\n",
        "\n",
        "    model = model.to(device)\n",
        "    model.eval()\n",
        "    itr = tqdm(loader, total=len(loader), leave=False)\n",
        "\n",
        "    for inputs, labels in itr:\n",
        "        inputs, labels = inputs.to(device), labels.to(device)\n",
        "        outputs = model(inputs) ##its here\n",
        "        loss = loss_function(outputs, labels)\n",
        "        test_loss += loss.item() * inputs.size(0)\n",
        "\n",
        "        _, predicted = torch.max(outputs, 1)\n",
        "        correct_predictions += (predicted == labels).sum().item()\n",
        "        total_samples += labels.size(0)\n",
        "\n",
        "        itr.set_description(\"(Eval)\")\n",
        "        itr.set_postfix(\n",
        "            loss=round(loss.item(), 5),\n",
        "            accuracy=round(correct_predictions / total_samples, 5),\n",
        "        )\n",
        "\n",
        "    test_loss /= total_samples\n",
        "    test_acc = correct_predictions / total_samples\n",
        "    return test_loss, test_acc\n"
      ]
    },
    {
      "cell_type": "code",
      "execution_count": 23,
      "metadata": {
        "id": "8iWPZq9GsFT5"
      },
      "outputs": [],
      "source": [
        "def train_model(\n",
        "        model,\n",
        "        batch_size,\n",
        "        loss_function,\n",
        "        optimizer,\n",
        "        epochs,\n",
        "        train_set,\n",
        "        valid_set,\n",
        "        device: str = 'auto',\n",
        "):\n",
        "\n",
        "    if device == \"auto\":\n",
        "        device = torch.device(\"cuda\" if torch.cuda.is_available() else \"cpu\")\n",
        "\n",
        "    model.to(device)\n",
        "\n",
        "    train_losses = []\n",
        "    train_accs = []\n",
        "    valid_losses = []\n",
        "    valid_accs = []\n",
        "    train_loader = DataLoader(train_set, batch_size=batch_size, shuffle=True)\n",
        "    valid_loader = DataLoader(valid_set, batch_size=batch_size, shuffle=False)\n",
        "    model.to(device)\n",
        "\n",
        "    for epoch in range(epochs):\n",
        "        model.train()\n",
        "        epoch_loss = 0\n",
        "        epoch_acc = 0\n",
        "        correct_predictions = 0\n",
        "        total_samples = 0\n",
        "\n",
        "        itr = tqdm(train_loader, total=len(train_loader), leave=False)##it wasnt here\n",
        "\n",
        "        for idx, (inputs, labels) in enumerate(itr, start=1):\n",
        "            inputs, labels = inputs.to(device), labels.to(device)\n",
        "            outputs = model(inputs)\n",
        "            _, predicted = torch.max(outputs, 1)\n",
        "            correct_predictions += (predicted == labels).sum().item()\n",
        "            total_samples += labels.size(0)\n",
        "\n",
        "            loss = loss_function(outputs, labels)\n",
        "            epoch_loss += loss.item() * inputs.size(0)\n",
        "\n",
        "            optimizer.zero_grad()\n",
        "            loss.backward()\n",
        "            optimizer.step()\n",
        "\n",
        "            itr.set_description(f\"(Training) Epoch [{epoch + 1}/{epochs}]\")\n",
        "            itr.set_postfix(\n",
        "              loss=round(loss.item(), 5),\n",
        "              accuracy=round(correct_predictions / total_samples, 5),\n",
        "              )\n",
        "\n",
        "        epoch_loss /= total_samples\n",
        "        epoch_acc = correct_predictions / total_samples\n",
        "        train_losses.append(epoch_loss)\n",
        "        train_accs.append(epoch_acc)\n",
        "\n",
        "        model.eval()\n",
        "        valid_loss, valid_acc = model_eval(\n",
        "            model=model,\n",
        "            loader=valid_loader,\n",
        "            loss_function=loss_function,\n",
        "            device=device\n",
        "            )\n",
        "\n",
        "        valid_losses.append(valid_loss)\n",
        "        valid_accs.append(valid_acc)\n",
        "\n",
        "        print(f\"Epoch [{epoch+1}/{epochs}]: \"\n",
        "              f\"Train Loss: {epoch_loss:.4f}, Train Acc: {epoch_acc:.4f}, \"\n",
        "              f\"Valid Loss: {valid_loss:.4f}, Valid Acc: {valid_acc:.4f}\")\n",
        "\n",
        "    history = {\n",
        "      \"train_loss\": train_losses,\n",
        "      \"train_acc\": train_accs,\n",
        "\n",
        "      \"valid_loss\": valid_losses,\n",
        "      \"valid_acc\": valid_accs,\n",
        "    }\n",
        "    return history"
      ]
    },
    {
      "cell_type": "code",
      "execution_count": 24,
      "metadata": {
        "id": "N-K8OwcQsLU5"
      },
      "outputs": [],
      "source": [
        "def trend_plot_helper(pobj):\n",
        "    plt.figure(figsize=(5*len(pobj), 5))\n",
        "    for idx, (titler, plots) in enumerate(pobj.items(), start=1):\n",
        "        plt.subplot(1, len(pobj), idx)\n",
        "        for label, trend in plots:\n",
        "            plt.plot(range(1, len(trend)+1), trend, label=label)\n",
        "        yt, xt = titler.split(' - ')\n",
        "        plt.xlabel(xt)\n",
        "        plt.ylabel(yt)\n",
        "        plt.legend()"
      ]
    },
    {
      "cell_type": "code",
      "execution_count": 25,
      "metadata": {
        "id": "YJr3dKkhIIu3"
      },
      "outputs": [],
      "source": [
        "@torch.no_grad()\n",
        "def generate_confusion_matrix(model, dataset, device='auto'):\n",
        "    if device == 'auto':\n",
        "        device = torch.device(\"cuda\" if torch.cuda.is_available() else \"cpu\")\n",
        "    model = model.to(device)\n",
        "    model.eval()\n",
        "\n",
        "    loader = DataLoader(dataset, batch_size=32, shuffle=False)\n",
        "    itr = tqdm(loader, leave=False, desc=\"Generate data\")\n",
        "\n",
        "    all_labels = []\n",
        "    all_predictions = []\n",
        "\n",
        "    for inputs, labels in itr:\n",
        "        inputs, labels = inputs.to(device), labels.to(device)\n",
        "        outputs = model(inputs)\n",
        "        _, predicted = torch.max(outputs, 1)\n",
        "        all_labels.extend(labels.cpu().numpy())\n",
        "        all_predictions.extend(predicted.cpu().numpy())\n",
        "\n",
        "    labels = all_labels\n",
        "    predicted = all_predictions\n",
        "\n",
        "    cm = metrics.confusion_matrix(y_true=labels, y_pred=predicted)\n",
        "\n",
        "    plt.figure(figsize=(10, 10))\n",
        "    sns.heatmap(cm, cmap='Blues', annot=True, cbar=False, fmt=\".0f\")\n",
        "    plt.xlabel('Predicted Label', labelpad=20)\n",
        "    plt.ylabel('True Label', labelpad=20)\n",
        "    plt.title('Confusion Matrix', fontsize=30)\n",
        "    plt.show()\n",
        "\n",
        "    recall = metrics.recall_score(y_true=labels, y_pred=predicted, average='macro')\n",
        "    f1 = metrics.f1_score(y_true=labels, y_pred=predicted, average='macro')\n",
        "    precision = metrics.precision_score(y_true=labels, y_pred=predicted, average='macro')\n",
        "    report = metrics.classification_report(y_true=labels, y_pred=predicted)\n",
        "\n",
        "    return {'recall': recall, 'f1': f1, 'precision': precision, 'report': report}\n"
      ]
    },
    {
      "cell_type": "markdown",
      "metadata": {
        "id": "qwd0dmuSc8OX"
      },
      "source": [
        "## Model's Network"
      ]
    },
    {
      "cell_type": "markdown",
      "metadata": {
        "id": "JMZukVi0c_hn"
      },
      "source": [
        "### Why does kernel size matter in CNN?"
      ]
    },
    {
      "cell_type": "markdown",
      "metadata": {
        "id": "4L4BZOjldCig"
      },
      "source": [
        "Kernel size in Convolutional Neural Networks (CNNs) plays a crucial role in determining the effectiveness and efficiency of the network in learning features from the input data.\n",
        "\n",
        "Receptive field: The size of the kernel determines the area of the input image that each convolutional operation will focus on. A larger kernel size leads to a larger receptive field, allowing the network to capture more spatial information and learn complex patterns in the input data.\n",
        "\n",
        "Feature extraction: Smaller kernel sizes are effective in capturing fine details and local patterns in the input data, while larger kernel sizes are better at capturing global features and overall structure of the input. By using a combination of different kernel sizes in CNNs, the network can effectively learn features at various levels of abstraction.\n",
        "\n",
        "Computational efficiency: Smaller kernel sizes require fewer parameters and computations, making the network more efficient and easier to train. However, larger kernel sizes may be necessary in certain cases to capture more complex features and patterns in the data.\n",
        "\n",
        "Overfitting: Using overly large kernel sizes in a CNN can lead to overfitting, as the network may memorize the training data instead of generalizing well to unseen data. It is important to carefully select the appropriate kernel size based on the complexity of the input data and the specific task at hand.\n",
        "\n",
        "Overall, the choice of kernel size in a CNN should be carefully considered based on the specific requirements of the task and the characteristics of the input data to ensure optimal performance of the network."
      ]
    },
    {
      "cell_type": "code",
      "execution_count": 26,
      "metadata": {
        "id": "071055uwsFPx"
      },
      "outputs": [],
      "source": [
        "class CNN(nn.Module):\n",
        "  def __init__(self, kernel_size1, kernel_size2, linear_input_size):\n",
        "        super(CNN, self).__init__()\n",
        "        self.model = nn.Sequential(\n",
        "            nn.Conv1d(300, 64, kernel_size=kernel_size1),\n",
        "            nn.ReLU(),\n",
        "            nn.Conv1d(64, 128, kernel_size=kernel_size2),\n",
        "            nn.ReLU(),\n",
        "            nn.MaxPool1d(kernel_size=linear_input_size),\n",
        "            nn.Flatten(),\n",
        "            nn.Linear(3840, 128),\n",
        "            nn.Linear(128, 2)\n",
        "        )\n",
        "\n",
        "  def forward(self, x):\n",
        "        x = x.permute(0, 2, 1)\n",
        "        return self.model(x)\n"
      ]
    },
    {
      "cell_type": "markdown",
      "metadata": {
        "id": "7sWqjRTcdFio"
      },
      "source": [
        "### Training"
      ]
    },
    {
      "cell_type": "code",
      "execution_count": 27,
      "metadata": {
        "id": "9AR7vo2AsFNx"
      },
      "outputs": [],
      "source": [
        "torch.manual_seed(42)\n",
        "model_p2 = CNN(kernel_size1=3, kernel_size2=3,linear_input_size =2)"
      ]
    },
    {
      "cell_type": "code",
      "execution_count": 28,
      "metadata": {
        "colab": {
          "base_uri": "https://localhost:8080/"
        },
        "id": "Sg9p7_VSsFLp",
        "outputId": "d34c1d34-30cd-4089-b80a-2d24e6a5a55b"
      },
      "outputs": [
        {
          "name": "stderr",
          "output_type": "stream",
          "text": [
            "                                                                                                      \r"
          ]
        },
        {
          "name": "stdout",
          "output_type": "stream",
          "text": [
            "Epoch [1/15]: Train Loss: 0.3710, Train Acc: 0.8358, Valid Loss: 0.2964, Valid Acc: 0.8904\n"
          ]
        },
        {
          "name": "stderr",
          "output_type": "stream",
          "text": [
            "                                                                                                      \r"
          ]
        },
        {
          "name": "stdout",
          "output_type": "stream",
          "text": [
            "Epoch [2/15]: Train Loss: 0.2830, Train Acc: 0.8864, Valid Loss: 0.2327, Valid Acc: 0.9070\n"
          ]
        },
        {
          "name": "stderr",
          "output_type": "stream",
          "text": [
            "                                                                                                       \r"
          ]
        },
        {
          "name": "stdout",
          "output_type": "stream",
          "text": [
            "Epoch [3/15]: Train Loss: 0.2327, Train Acc: 0.9038, Valid Loss: 0.2266, Valid Acc: 0.9037\n"
          ]
        },
        {
          "name": "stderr",
          "output_type": "stream",
          "text": [
            "                                                                                                       \r"
          ]
        },
        {
          "name": "stdout",
          "output_type": "stream",
          "text": [
            "Epoch [4/15]: Train Loss: 0.1873, Train Acc: 0.9225, Valid Loss: 0.2123, Valid Acc: 0.9148\n"
          ]
        },
        {
          "name": "stderr",
          "output_type": "stream",
          "text": [
            "                                                                                                       \r"
          ]
        },
        {
          "name": "stdout",
          "output_type": "stream",
          "text": [
            "Epoch [5/15]: Train Loss: 0.1590, Train Acc: 0.9369, Valid Loss: 0.2249, Valid Acc: 0.9120\n"
          ]
        },
        {
          "name": "stderr",
          "output_type": "stream",
          "text": [
            "                                                                                                       \r"
          ]
        },
        {
          "name": "stdout",
          "output_type": "stream",
          "text": [
            "Epoch [6/15]: Train Loss: 0.1326, Train Acc: 0.9498, Valid Loss: 0.2814, Valid Acc: 0.9054\n"
          ]
        },
        {
          "name": "stderr",
          "output_type": "stream",
          "text": [
            "                                                                                                       \r"
          ]
        },
        {
          "name": "stdout",
          "output_type": "stream",
          "text": [
            "Epoch [7/15]: Train Loss: 0.0938, Train Acc: 0.9676, Valid Loss: 0.2521, Valid Acc: 0.9081\n"
          ]
        },
        {
          "name": "stderr",
          "output_type": "stream",
          "text": [
            "                                                                                                       \r"
          ]
        },
        {
          "name": "stdout",
          "output_type": "stream",
          "text": [
            "Epoch [8/15]: Train Loss: 0.0658, Train Acc: 0.9776, Valid Loss: 0.2935, Valid Acc: 0.9070\n"
          ]
        },
        {
          "name": "stderr",
          "output_type": "stream",
          "text": [
            "                                                                                                       \r"
          ]
        },
        {
          "name": "stdout",
          "output_type": "stream",
          "text": [
            "Epoch [9/15]: Train Loss: 0.0507, Train Acc: 0.9833, Valid Loss: 0.3324, Valid Acc: 0.9037\n"
          ]
        },
        {
          "name": "stderr",
          "output_type": "stream",
          "text": [
            "                                                                                                        \r"
          ]
        },
        {
          "name": "stdout",
          "output_type": "stream",
          "text": [
            "Epoch [10/15]: Train Loss: 0.0321, Train Acc: 0.9892, Valid Loss: 0.4146, Valid Acc: 0.9043\n"
          ]
        },
        {
          "name": "stderr",
          "output_type": "stream",
          "text": [
            "                                                                                                         \r"
          ]
        },
        {
          "name": "stdout",
          "output_type": "stream",
          "text": [
            "Epoch [11/15]: Train Loss: 0.0233, Train Acc: 0.9932, Valid Loss: 0.4235, Valid Acc: 0.9020\n"
          ]
        },
        {
          "name": "stderr",
          "output_type": "stream",
          "text": [
            "                                                                                                         \r"
          ]
        },
        {
          "name": "stdout",
          "output_type": "stream",
          "text": [
            "Epoch [12/15]: Train Loss: 0.0207, Train Acc: 0.9932, Valid Loss: 0.4585, Valid Acc: 0.9020\n"
          ]
        },
        {
          "name": "stderr",
          "output_type": "stream",
          "text": [
            "                                                                                                         \r"
          ]
        },
        {
          "name": "stdout",
          "output_type": "stream",
          "text": [
            "Epoch [13/15]: Train Loss: 0.0207, Train Acc: 0.9923, Valid Loss: 0.4778, Valid Acc: 0.9004\n"
          ]
        },
        {
          "name": "stderr",
          "output_type": "stream",
          "text": [
            "                                                                                                         \r"
          ]
        },
        {
          "name": "stdout",
          "output_type": "stream",
          "text": [
            "Epoch [14/15]: Train Loss: 0.0146, Train Acc: 0.9952, Valid Loss: 0.5051, Valid Acc: 0.8998\n"
          ]
        },
        {
          "name": "stderr",
          "output_type": "stream",
          "text": [
            "                                                                                                         "
          ]
        },
        {
          "name": "stdout",
          "output_type": "stream",
          "text": [
            "Epoch [15/15]: Train Loss: 0.0145, Train Acc: 0.9947, Valid Loss: 0.5297, Valid Acc: 0.8987\n"
          ]
        },
        {
          "name": "stderr",
          "output_type": "stream",
          "text": [
            "\r"
          ]
        }
      ],
      "source": [
        "cnn_model_train_history = train_model(\n",
        "    model=model_p2,\n",
        "    batch_size=BATCH_SIZE,\n",
        "    loss_function=nn.CrossEntropyLoss(),\n",
        "    optimizer=optim.Adam(model_p2.parameters(), lr=LEARNING_RATE),\n",
        "    epochs=EPOCHS,\n",
        "    train_set=train_dataset,\n",
        "    valid_set=test_dataset,\n",
        "    device='cuda' if torch.cuda.is_available() else 'cpu'\n",
        ")"
      ]
    },
    {
      "cell_type": "code",
      "execution_count": 29,
      "metadata": {
        "colab": {
          "base_uri": "https://localhost:8080/",
          "height": 465
        },
        "id": "Zt17RTw5sFJx",
        "outputId": "2890850e-d990-4768-e321-21f9fddd32e6"
      },
      "outputs": [
        {
          "data": {
            "image/png": "[encoded data removed]",
            "text/plain": [
              "<Figure size 1000x500 with 2 Axes>"
            ]
          },
          "metadata": {},
          "output_type": "display_data"
        }
      ],
      "source": [
        "trend_plot_helper(\n",
        "    {\n",
        "        \"Accuracy - Epoch\": [\n",
        "            (\"Train Acc\", cnn_model_train_history[\"train_acc\"]),\n",
        "            (\"Validation Acc\", cnn_model_train_history[\"valid_acc\"]),\n",
        "        ],\n",
        "        \"Loss - Epoch\": [\n",
        "            (\"Train Loss\", cnn_model_train_history[\"train_loss\"]),\n",
        "            (\"Validation Loss\", cnn_model_train_history[\"valid_loss\"])\n",
        "        ]\n",
        "    }\n",
        ")"
      ]
    },
    {
      "cell_type": "code",
      "execution_count": 30,
      "metadata": {
        "colab": {
          "base_uri": "https://localhost:8080/",
          "height": 914
        },
        "id": "QehElV1gsFHp",
        "outputId": "0d130726-f98a-4783-b936-a1c6d149a7cd"
      },
      "outputs": [
        {
          "name": "stderr",
          "output_type": "stream",
          "text": [
            "                                                               \r"
          ]
        },
        {
          "data": {
            "image/png": "[encoded data removed]",
            "text/plain": [
              "<Figure size 1000x1000 with 1 Axes>"
            ]
          },
          "metadata": {},
          "output_type": "display_data"
        }
      ],
      "source": [
        "cnn_model_report = generate_confusion_matrix(\n",
        "    model=model_p2,\n",
        "    dataset=test_dataset,\n",
        ")"
      ]
    },
    {
      "cell_type": "code",
      "execution_count": 31,
      "metadata": {
        "colab": {
          "base_uri": "https://localhost:8080/"
        },
        "id": "HNuuYEOwsFER",
        "outputId": "bfd615d2-95d4-413f-9db4-5b0837820584"
      },
      "outputs": [
        {
          "name": "stdout",
          "output_type": "stream",
          "text": [
            "Recall:    0.898\n",
            "F1:        0.898\n",
            "Precision: 0.897\n",
            "              precision    recall  f1-score   support\n",
            "\n",
            "           0       0.91      0.90      0.91      1006\n",
            "           1       0.88      0.89      0.89       801\n",
            "\n",
            "    accuracy                           0.90      1807\n",
            "   macro avg       0.90      0.90      0.90      1807\n",
            "weighted avg       0.90      0.90      0.90      1807\n",
            "\n"
          ]
        }
      ],
      "source": [
        "print(f\"Recall:    {cnn_model_report['recall']:.3f}\")\n",
        "print(f\"F1:        {cnn_model_report['f1']:.3f}\")\n",
        "print(f\"Precision: {cnn_model_report['precision']:.3f}\")\n",
        "print(cnn_model_report['report'])"
      ]
    },
    {
      "cell_type": "markdown",
      "metadata": {
        "id": "UtS_XTG-dNcM"
      },
      "source": [
        "### Phase 3: Change Kernel Size to 196"
      ]
    },
    {
      "cell_type": "code",
      "execution_count": 32,
      "metadata": {},
      "outputs": [
        {
          "name": "stdout",
          "output_type": "stream",
          "text": [
            "Deleted 0-Len Samples: 85\n",
            "Deleted 0-Len Samples: 0\n",
            "Deleted 0-Len Samples: 0\n",
            "Training dataset size: 7227\n",
            "Testing dataset size: 1807\n"
          ]
        }
      ],
      "source": [
        "twitter_dataset = Twitter(dataframe, w2v_model, SEQUENCE_LEN2)\n",
        "\n",
        "train_dataset2, test_dataset2 = twitter_dataset.split_datasets(test_size=0.2, random_state=42)\n",
        "\n",
        "print(f\"Training dataset size: {len(train_dataset2)}\")\n",
        "print(f\"Testing dataset size: {len(test_dataset2)}\")"
      ]
    },
    {
      "cell_type": "code",
      "execution_count": 33,
      "metadata": {
        "id": "xUkCLvCEdmCc"
      },
      "outputs": [],
      "source": [
        "class CNN2(nn.Module):\n",
        "    def __init__(self):\n",
        "        super(CNN2, self).__init__()\n",
        "        self.model = nn.Sequential(\n",
        "            nn.Conv1d(300, 64, kernel_size=3),\n",
        "            nn.ReLU(),\n",
        "            nn.Conv1d(64, 128, kernel_size=3),\n",
        "            nn.ReLU(),\n",
        "            nn.MaxPool1d(kernel_size=2),\n",
        "            nn.Flatten(),\n",
        "            nn.Linear(12288, 128),\n",
        "            nn.ReLU(),\n",
        "            nn.Linear(128, 2),\n",
        "            nn.Sigmoid()\n",
        "        )\n",
        "\n",
        "    def forward(self, x):\n",
        "        x = x.permute(0, 2, 1)\n",
        "        return self.model(x)"
      ]
    },
    {
      "cell_type": "code",
      "execution_count": 34,
      "metadata": {
        "id": "vUJ5gJktdsXX"
      },
      "outputs": [],
      "source": [
        "torch.manual_seed(42)\n",
        "cnn_model_2 = CNN2()"
      ]
    },
    {
      "cell_type": "code",
      "execution_count": 35,
      "metadata": {
        "id": "R4HTB6d4dwQv"
      },
      "outputs": [
        {
          "name": "stderr",
          "output_type": "stream",
          "text": [
            "                                                                                                      \r"
          ]
        },
        {
          "name": "stdout",
          "output_type": "stream",
          "text": [
            "Epoch [1/15]: Train Loss: 0.4895, Train Acc: 0.8258, Valid Loss: 0.4399, Valid Acc: 0.8716\n"
          ]
        },
        {
          "name": "stderr",
          "output_type": "stream",
          "text": [
            "                                                                                                      \r"
          ]
        },
        {
          "name": "stdout",
          "output_type": "stream",
          "text": [
            "Epoch [2/15]: Train Loss: 0.4462, Train Acc: 0.8650, Valid Loss: 0.4238, Valid Acc: 0.8888\n"
          ]
        },
        {
          "name": "stderr",
          "output_type": "stream",
          "text": [
            "                                                                                                      \r"
          ]
        },
        {
          "name": "stdout",
          "output_type": "stream",
          "text": [
            "Epoch [3/15]: Train Loss: 0.4351, Train Acc: 0.8767, Valid Loss: 0.4182, Valid Acc: 0.8949\n"
          ]
        },
        {
          "name": "stderr",
          "output_type": "stream",
          "text": [
            "                                                                                                      \r"
          ]
        },
        {
          "name": "stdout",
          "output_type": "stream",
          "text": [
            "Epoch [4/15]: Train Loss: 0.4256, Train Acc: 0.8858, Valid Loss: 0.4124, Valid Acc: 0.9009\n"
          ]
        },
        {
          "name": "stderr",
          "output_type": "stream",
          "text": [
            "                                                                                                      \r"
          ]
        },
        {
          "name": "stdout",
          "output_type": "stream",
          "text": [
            "Epoch [5/15]: Train Loss: 0.4213, Train Acc: 0.8897, Valid Loss: 0.4185, Valid Acc: 0.8921\n"
          ]
        },
        {
          "name": "stderr",
          "output_type": "stream",
          "text": [
            "                                                                                                      \r"
          ]
        },
        {
          "name": "stdout",
          "output_type": "stream",
          "text": [
            "Epoch [6/15]: Train Loss: 0.4119, Train Acc: 0.8995, Valid Loss: 0.4103, Valid Acc: 0.8993\n"
          ]
        },
        {
          "name": "stderr",
          "output_type": "stream",
          "text": [
            "                                                                                                      \r"
          ]
        },
        {
          "name": "stdout",
          "output_type": "stream",
          "text": [
            "Epoch [7/15]: Train Loss: 0.4098, Train Acc: 0.9016, Valid Loss: 0.4091, Valid Acc: 0.9026\n"
          ]
        },
        {
          "name": "stderr",
          "output_type": "stream",
          "text": [
            "                                                                                                      \r"
          ]
        },
        {
          "name": "stdout",
          "output_type": "stream",
          "text": [
            "Epoch [8/15]: Train Loss: 0.4040, Train Acc: 0.9080, Valid Loss: 0.4147, Valid Acc: 0.8937\n"
          ]
        },
        {
          "name": "stderr",
          "output_type": "stream",
          "text": [
            "                                                                                                      \r"
          ]
        },
        {
          "name": "stdout",
          "output_type": "stream",
          "text": [
            "Epoch [9/15]: Train Loss: 0.3989, Train Acc: 0.9139, Valid Loss: 0.4176, Valid Acc: 0.8904\n"
          ]
        },
        {
          "name": "stderr",
          "output_type": "stream",
          "text": [
            "                                                                                                       \r"
          ]
        },
        {
          "name": "stdout",
          "output_type": "stream",
          "text": [
            "Epoch [10/15]: Train Loss: 0.3965, Train Acc: 0.9155, Valid Loss: 0.4213, Valid Acc: 0.8866\n"
          ]
        },
        {
          "name": "stderr",
          "output_type": "stream",
          "text": [
            "                                                                                                       \r"
          ]
        },
        {
          "name": "stdout",
          "output_type": "stream",
          "text": [
            "Epoch [11/15]: Train Loss: 0.3931, Train Acc: 0.9193, Valid Loss: 0.4163, Valid Acc: 0.8926\n"
          ]
        },
        {
          "name": "stderr",
          "output_type": "stream",
          "text": [
            "                                                                                                       \r"
          ]
        },
        {
          "name": "stdout",
          "output_type": "stream",
          "text": [
            "Epoch [12/15]: Train Loss: 0.3892, Train Acc: 0.9238, Valid Loss: 0.4071, Valid Acc: 0.9020\n"
          ]
        },
        {
          "name": "stderr",
          "output_type": "stream",
          "text": [
            "                                                                                                       \r"
          ]
        },
        {
          "name": "stdout",
          "output_type": "stream",
          "text": [
            "Epoch [13/15]: Train Loss: 0.3875, Train Acc: 0.9254, Valid Loss: 0.4108, Valid Acc: 0.9009\n"
          ]
        },
        {
          "name": "stderr",
          "output_type": "stream",
          "text": [
            "                                                                                                       \r"
          ]
        },
        {
          "name": "stdout",
          "output_type": "stream",
          "text": [
            "Epoch [14/15]: Train Loss: 0.3865, Train Acc: 0.9251, Valid Loss: 0.4303, Valid Acc: 0.8794\n"
          ]
        },
        {
          "name": "stderr",
          "output_type": "stream",
          "text": [
            "                                                                                                       "
          ]
        },
        {
          "name": "stdout",
          "output_type": "stream",
          "text": [
            "Epoch [15/15]: Train Loss: 0.3835, Train Acc: 0.9292, Valid Loss: 0.4029, Valid Acc: 0.9076\n"
          ]
        },
        {
          "name": "stderr",
          "output_type": "stream",
          "text": [
            "\r"
          ]
        }
      ],
      "source": [
        "import torch.optim as optim\n",
        "cnn_model_train_history_2 = train_model(\n",
        "    model = cnn_model_2,\n",
        "    batch_size = BATCH_SIZE,\n",
        "    loss_function = nn.CrossEntropyLoss(),\n",
        "    optimizer = optim.Adam(cnn_model_2.parameters(), lr = LEARNING_RATE),\n",
        "    epochs = EPOCHS,\n",
        "    train_set = train_dataset2,\n",
        "    valid_set = test_dataset2,\n",
        "    device = 'cuda' if torch.cuda.is_available() else 'cpu'\n",
        ")"
      ]
    },
    {
      "cell_type": "code",
      "execution_count": 36,
      "metadata": {
        "id": "Cz9Dq-Efd1t_"
      },
      "outputs": [
        {
          "data": {
            "image/png": "[encoded data removed]",
            "text/plain": [
              "<Figure size 1000x500 with 2 Axes>"
            ]
          },
          "metadata": {},
          "output_type": "display_data"
        }
      ],
      "source": [
        "trend_plot_helper(\n",
        "    {\n",
        "        \"Accuracy - Epoch\": [\n",
        "            (\"Train Acc\", cnn_model_train_history_2[\"train_acc\"]),\n",
        "            (\"Validation Acc\", cnn_model_train_history_2[\"valid_acc\"]),\n",
        "        ],\n",
        "        \"Loss - Epoch\": [\n",
        "            (\"Train Loss\", cnn_model_train_history_2[\"train_loss\"]),\n",
        "            (\"Validation Loss\", cnn_model_train_history_2[\"valid_loss\"])\n",
        "        ]\n",
        "    }\n",
        ")"
      ]
    },
    {
      "cell_type": "code",
      "execution_count": 37,
      "metadata": {
        "id": "n02mh7u1d33X"
      },
      "outputs": [
        {
          "name": "stderr",
          "output_type": "stream",
          "text": [
            "                                                               \r"
          ]
        },
        {
          "data": {
            "image/png": "[encoded data removed]",
            "text/plain": [
              "<Figure size 1000x1000 with 1 Axes>"
            ]
          },
          "metadata": {},
          "output_type": "display_data"
        }
      ],
      "source": [
        "cnn_model_report_2 = generate_confusion_matrix(\n",
        "    model = cnn_model_2,\n",
        "    dataset = test_dataset2,\n",
        ")"
      ]
    },
    {
      "cell_type": "code",
      "execution_count": 38,
      "metadata": {
        "id": "gZGORK-ieIV8"
      },
      "outputs": [
        {
          "name": "stdout",
          "output_type": "stream",
          "text": [
            "Recall:    0.900\n",
            "F1:        0.905\n",
            "Precision: 0.915\n",
            "              precision    recall  f1-score   support\n",
            "\n",
            "           0       0.88      0.96      0.92      1006\n",
            "           1       0.95      0.84      0.89       801\n",
            "\n",
            "    accuracy                           0.91      1807\n",
            "   macro avg       0.92      0.90      0.90      1807\n",
            "weighted avg       0.91      0.91      0.91      1807\n",
            "\n"
          ]
        }
      ],
      "source": [
        "print(f\"Recall:    {cnn_model_report_2['recall']:.3f}\")\n",
        "print(f\"F1:        {cnn_model_report_2['f1']:.3f}\")\n",
        "print(f\"Precision: {cnn_model_report_2['precision']:.3f}\")\n",
        "print(cnn_model_report_2['report'])"
      ]
    },
    {
      "cell_type": "markdown",
      "metadata": {
        "id": "UBVXlS7xdIf7"
      },
      "source": [
        "### Phase 4: Dropout and Normalization"
      ]
    },
    {
      "cell_type": "code",
      "execution_count": 39,
      "metadata": {},
      "outputs": [
        {
          "name": "stdout",
          "output_type": "stream",
          "text": [
            "Deleted 0-Len Samples: 85\n",
            "Deleted 0-Len Samples: 0\n",
            "Deleted 0-Len Samples: 0\n",
            "Training dataset size: 7227\n",
            "Testing dataset size: 1807\n"
          ]
        }
      ],
      "source": [
        "twitter_dataset = Twitter(dataframe, w2v_model, SEQUENCE_LEN2)\n",
        "\n",
        "train_dataset3, test_dataset3 = twitter_dataset.split_datasets(test_size=0.2, random_state=42)\n",
        "\n",
        "print(f\"Training dataset size: {len(train_dataset2)}\")\n",
        "print(f\"Testing dataset size: {len(test_dataset2)}\")"
      ]
    },
    {
      "cell_type": "code",
      "execution_count": 40,
      "metadata": {
        "id": "eQ1DOOYkeuVf"
      },
      "outputs": [],
      "source": [
        "class CNN3(nn.Module):\n",
        "    def __init__(self):\n",
        "        super(CNN3, self).__init__()\n",
        "        self.model = nn.Sequential(\n",
        "            nn.Conv1d(300, 64, kernel_size=3),\n",
        "            nn.ReLU(),\n",
        "            nn.Conv1d(64, 128, kernel_size=3),\n",
        "            nn.ReLU(),\n",
        "            nn.MaxPool1d(kernel_size=2),\n",
        "            nn.Flatten(),\n",
        "            nn.Linear(12288, 128),\n",
        "            nn.BatchNorm1d(128),\n",
        "            nn.ReLU(),\n",
        "            nn.Dropout(0.25),\n",
        "            nn.Linear(128, 2),\n",
        "            nn.Sigmoid()\n",
        "        )\n",
        "\n",
        "    def forward(self, x):\n",
        "        x = x.permute(0, 2, 1)\n",
        "        return self.model(x)"
      ]
    },
    {
      "cell_type": "code",
      "execution_count": 41,
      "metadata": {
        "id": "D2K7KY-PewV_"
      },
      "outputs": [],
      "source": [
        "torch.manual_seed(42)\n",
        "cnn_model_3 = CNN3()"
      ]
    },
    {
      "cell_type": "code",
      "execution_count": 42,
      "metadata": {
        "id": "R8AQe4w0e2Lr"
      },
      "outputs": [
        {
          "name": "stderr",
          "output_type": "stream",
          "text": [
            "                                                                                                      \r"
          ]
        },
        {
          "name": "stdout",
          "output_type": "stream",
          "text": [
            "Epoch [1/15]: Train Loss: 0.4734, Train Acc: 0.8583, Valid Loss: 0.4230, Valid Acc: 0.9004\n"
          ]
        },
        {
          "name": "stderr",
          "output_type": "stream",
          "text": [
            "                                                                                                      \r"
          ]
        },
        {
          "name": "stdout",
          "output_type": "stream",
          "text": [
            "Epoch [2/15]: Train Loss: 0.4150, Train Acc: 0.9066, Valid Loss: 0.4087, Valid Acc: 0.9098\n"
          ]
        },
        {
          "name": "stderr",
          "output_type": "stream",
          "text": [
            "                                                                                                      \r"
          ]
        },
        {
          "name": "stdout",
          "output_type": "stream",
          "text": [
            "Epoch [3/15]: Train Loss: 0.3885, Train Acc: 0.9286, Valid Loss: 0.4160, Valid Acc: 0.8937\n"
          ]
        },
        {
          "name": "stderr",
          "output_type": "stream",
          "text": [
            "                                                                                                      \r"
          ]
        },
        {
          "name": "stdout",
          "output_type": "stream",
          "text": [
            "Epoch [4/15]: Train Loss: 0.3731, Train Acc: 0.9433, Valid Loss: 0.4008, Valid Acc: 0.9103\n"
          ]
        },
        {
          "name": "stderr",
          "output_type": "stream",
          "text": [
            "                                                                                                      \r"
          ]
        },
        {
          "name": "stdout",
          "output_type": "stream",
          "text": [
            "Epoch [5/15]: Train Loss: 0.3603, Train Acc: 0.9566, Valid Loss: 0.4179, Valid Acc: 0.8926\n"
          ]
        },
        {
          "name": "stderr",
          "output_type": "stream",
          "text": [
            "                                                                                                      \r"
          ]
        },
        {
          "name": "stdout",
          "output_type": "stream",
          "text": [
            "Epoch [6/15]: Train Loss: 0.3509, Train Acc: 0.9657, Valid Loss: 0.4188, Valid Acc: 0.8943\n"
          ]
        },
        {
          "name": "stderr",
          "output_type": "stream",
          "text": [
            "                                                                                                      \r"
          ]
        },
        {
          "name": "stdout",
          "output_type": "stream",
          "text": [
            "Epoch [7/15]: Train Loss: 0.3450, Train Acc: 0.9703, Valid Loss: 0.4087, Valid Acc: 0.9009\n"
          ]
        },
        {
          "name": "stderr",
          "output_type": "stream",
          "text": [
            "                                                                                                      \r"
          ]
        },
        {
          "name": "stdout",
          "output_type": "stream",
          "text": [
            "Epoch [8/15]: Train Loss: 0.3399, Train Acc: 0.9754, Valid Loss: 0.4202, Valid Acc: 0.8888\n"
          ]
        },
        {
          "name": "stderr",
          "output_type": "stream",
          "text": [
            "                                                                                                      \r"
          ]
        },
        {
          "name": "stdout",
          "output_type": "stream",
          "text": [
            "Epoch [9/15]: Train Loss: 0.3380, Train Acc: 0.9766, Valid Loss: 0.4153, Valid Acc: 0.8926\n"
          ]
        },
        {
          "name": "stderr",
          "output_type": "stream",
          "text": [
            "                                                                                                       \r"
          ]
        },
        {
          "name": "stdout",
          "output_type": "stream",
          "text": [
            "Epoch [10/15]: Train Loss: 0.3347, Train Acc: 0.9802, Valid Loss: 0.4141, Valid Acc: 0.8987\n"
          ]
        },
        {
          "name": "stderr",
          "output_type": "stream",
          "text": [
            "                                                                                                       \r"
          ]
        },
        {
          "name": "stdout",
          "output_type": "stream",
          "text": [
            "Epoch [11/15]: Train Loss: 0.3332, Train Acc: 0.9815, Valid Loss: 0.4071, Valid Acc: 0.9026\n"
          ]
        },
        {
          "name": "stderr",
          "output_type": "stream",
          "text": [
            "                                                                                                       \r"
          ]
        },
        {
          "name": "stdout",
          "output_type": "stream",
          "text": [
            "Epoch [12/15]: Train Loss: 0.3299, Train Acc: 0.9846, Valid Loss: 0.4119, Valid Acc: 0.8965\n"
          ]
        },
        {
          "name": "stderr",
          "output_type": "stream",
          "text": [
            "                                                                                                       \r"
          ]
        },
        {
          "name": "stdout",
          "output_type": "stream",
          "text": [
            "Epoch [13/15]: Train Loss: 0.3311, Train Acc: 0.9834, Valid Loss: 0.4152, Valid Acc: 0.8943\n"
          ]
        },
        {
          "name": "stderr",
          "output_type": "stream",
          "text": [
            "                                                                                                       \r"
          ]
        },
        {
          "name": "stdout",
          "output_type": "stream",
          "text": [
            "Epoch [14/15]: Train Loss: 0.3297, Train Acc: 0.9853, Valid Loss: 0.4417, Valid Acc: 0.8694\n"
          ]
        },
        {
          "name": "stderr",
          "output_type": "stream",
          "text": [
            "                                                                                                       "
          ]
        },
        {
          "name": "stdout",
          "output_type": "stream",
          "text": [
            "Epoch [15/15]: Train Loss: 0.3287, Train Acc: 0.9856, Valid Loss: 0.4104, Valid Acc: 0.9004\n"
          ]
        },
        {
          "name": "stderr",
          "output_type": "stream",
          "text": [
            "\r"
          ]
        }
      ],
      "source": [
        "import torch.optim as optim\n",
        "cnn_model_train_history_3 = train_model(\n",
        "    model=cnn_model_3,\n",
        "    batch_size=BATCH_SIZE,\n",
        "    loss_function=nn.CrossEntropyLoss(),\n",
        "    optimizer=optim.Adam(cnn_model_3.parameters(), lr=LEARNING_RATE),\n",
        "    epochs=EPOCHS,\n",
        "    train_set=train_dataset3,\n",
        "    valid_set=test_dataset3,\n",
        "    device='cuda' if torch.cuda.is_available() else 'cpu'\n",
        ")"
      ]
    },
    {
      "cell_type": "code",
      "execution_count": 43,
      "metadata": {
        "id": "EZqSK49de4UC"
      },
      "outputs": [
        {
          "data": {
            "image/png": "[encoded data removed]",
            "text/plain": [
              "<Figure size 1000x500 with 2 Axes>"
            ]
          },
          "metadata": {},
          "output_type": "display_data"
        }
      ],
      "source": [
        "trend_plot_helper(\n",
        "    {\n",
        "        \"Accuracy - Epoch\": [\n",
        "            (\"Train Acc\", cnn_model_train_history_3[\"train_acc\"]),\n",
        "            (\"Validation Acc\", cnn_model_train_history_3[\"valid_acc\"]),\n",
        "        ],\n",
        "        \"Loss - Epoch\": [\n",
        "            (\"Train Loss\", cnn_model_train_history_3[\"train_loss\"]),\n",
        "            (\"Validation Loss\", cnn_model_train_history_3[\"valid_loss\"])\n",
        "        ]\n",
        "    }\n",
        ")"
      ]
    },
    {
      "cell_type": "code",
      "execution_count": 44,
      "metadata": {
        "id": "xFW8XJAJe6ay"
      },
      "outputs": [
        {
          "name": "stderr",
          "output_type": "stream",
          "text": [
            "                                                               \r"
          ]
        },
        {
          "data": {
            "image/png": "[encoded data removed]",
            "text/plain": [
              "<Figure size 1000x1000 with 1 Axes>"
            ]
          },
          "metadata": {},
          "output_type": "display_data"
        }
      ],
      "source": [
        "cnn_model_report_3 = generate_confusion_matrix(\n",
        "    model = cnn_model_3,\n",
        "    dataset = test_dataset3,\n",
        ")"
      ]
    },
    {
      "cell_type": "code",
      "execution_count": 45,
      "metadata": {
        "id": "OAWV9801e9Di"
      },
      "outputs": [
        {
          "name": "stdout",
          "output_type": "stream",
          "text": [
            "Recall:    0.899\n",
            "F1:        0.899\n",
            "Precision: 0.899\n",
            "              precision    recall  f1-score   support\n",
            "\n",
            "           0       0.91      0.91      0.91      1006\n",
            "           1       0.89      0.89      0.89       801\n",
            "\n",
            "    accuracy                           0.90      1807\n",
            "   macro avg       0.90      0.90      0.90      1807\n",
            "weighted avg       0.90      0.90      0.90      1807\n",
            "\n"
          ]
        }
      ],
      "source": [
        "print(f\"Recall:    {cnn_model_report_3['recall']:.3f}\")\n",
        "print(f\"F1:        {cnn_model_report_3['f1']:.3f}\")\n",
        "print(f\"Precision: {cnn_model_report_3['precision']:.3f}\")\n",
        "print(cnn_model_report_3['report'])"
      ]
    },
    {
      "cell_type": "markdown",
      "metadata": {
        "id": "Kipc84T9e--E"
      },
      "source": [
        "##Overall Comparison:\n",
        "The loss function in part 1 with sequence length being 64 is quite low and throughout all the epochs, it was dicreased and almost approximated to 0. The loss function in part 2 with sequence length being 196 and in part 3, was generally more in scale. But the accuracies in these 3 parts do not vary that much, though if we want to compare, the f1 score in part 3 is lower than the other 2. The other significant aspect of the 3rd part was the way that the model performed on the test set. It was not overall bad, but the performance on the test set had significant ups and downs, as you can see in the plots.\n",
        "\n",
        "In the 2nd part, the test accuracy and the train accuracy converge closer to each other, in comparison to the first part."
      ]
    }
  ],
  "metadata": {
    "accelerator": "GPU",
    "colab": {
      "gpuType": "T4",
      "provenance": []
    },
    "kernelspec": {
      "display_name": "Python 3",
      "name": "python3"
    },
    "language_info": {
      "codemirror_mode": {
        "name": "ipython",
        "version": 3
      },
      "file_extension": ".py",
      "mimetype": "text/x-python",
      "name": "python",
      "nbconvert_exporter": "python",
      "pygments_lexer": "ipython3",
      "version": "3.8.10"
    }
  },
  "nbformat": 4,
  "nbformat_minor": 0
}
